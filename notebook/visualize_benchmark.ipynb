{
 "cells": [
  {
   "cell_type": "code",
   "execution_count": null,
   "id": "c98dbe92",
   "metadata": {},
   "outputs": [],
   "source": [
    "import sys\n",
    "sys.path.append('../')"
   ]
  },
  {
   "cell_type": "code",
   "execution_count": null,
   "id": "b6e6cb89",
   "metadata": {},
   "outputs": [],
   "source": [
    "from f1tenth_gym.maps.map_manager import MAP_DICT\n",
    "from src.utils.visualize import visualize_trajectory\n",
    "\n",
    "visualize_trajectory(MAP_DICT, base_dir='../benchmarks/2025-05-10/18-54-23/', yaml_dir='../f1tenth_gym/maps')"
   ]
  },
  {
   "cell_type": "code",
   "execution_count": null,
   "id": "2142b3f4",
   "metadata": {},
   "outputs": [],
   "source": []
  }
 ],
 "metadata": {
  "kernelspec": {
   "display_name": "env",
   "language": "python",
   "name": "python3"
  },
  "language_info": {
   "codemirror_mode": {
    "name": "ipython",
    "version": 3
   },
   "file_extension": ".py",
   "mimetype": "text/x-python",
   "name": "python",
   "nbconvert_exporter": "python",
   "pygments_lexer": "ipython3",
   "version": "3.11.12"
  }
 },
 "nbformat": 4,
 "nbformat_minor": 5
}
