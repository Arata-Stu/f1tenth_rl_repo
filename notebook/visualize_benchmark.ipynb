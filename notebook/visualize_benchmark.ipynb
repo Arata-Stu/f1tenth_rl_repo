{
 "cells": [
  {
   "cell_type": "code",
   "execution_count": null,
   "id": "c98dbe92",
   "metadata": {},
   "outputs": [],
   "source": [
    "import sys\n",
    "sys.path.append('../')"
   ]
  },
  {
   "cell_type": "code",
   "execution_count": null,
   "id": "b6e6cb89",
   "metadata": {},
   "outputs": [],
   "source": [
    "from f1tenth_gym.maps.map_manager import MAP_DICT\n",
    "from src.utils.visuali import def visualize_trajectory\n",
    "\n",
    "for i in range(len(MAP_DICT)):\n",
    "    map_name = MAP_DICT[i]\n",
    "    visualize_trajectory(map, base_dir='../f1tenth_gym/maps')"
   ]
  }
 ],
 "metadata": {
  "kernelspec": {
   "display_name": "env",
   "language": "python",
   "name": "python3"
  },
  "language_info": {
   "name": "python",
   "version": "3.11.10"
  }
 },
 "nbformat": 4,
 "nbformat_minor": 5
}
