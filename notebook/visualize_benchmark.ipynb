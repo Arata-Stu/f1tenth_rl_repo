{
 "cells": [
  {
   "cell_type": "code",
   "execution_count": null,
   "id": "c98dbe92",
   "metadata": {},
   "outputs": [],
   "source": [
    "import sys\n",
    "sys.path.append('../')"
   ]
  },
  {
   "cell_type": "code",
   "execution_count": null,
   "id": "b6e6cb89",
   "metadata": {},
   "outputs": [],
   "source": [
    "from f1tenth_gym.maps.map_manager import MAP_DICT\n",
    "from src.utils.visualize import visualize_trajectory\n",
    "\n",
    "for i in range(len(MAP_DICT)):\n",
    "    map_name = MAP_DICT[i]\n",
    "    visualize_trajectory(map_name, base_dir='../benchmarks/2025-05-08/13-59-15/', yaml_dir='../f1tenth_gym/maps')"
   ]
  },
  {
   "cell_type": "code",
   "execution_count": null,
   "id": "2142b3f4",
   "metadata": {},
   "outputs": [],
   "source": []
  }
 ],
 "metadata": {
  "kernelspec": {
   "display_name": "env",
   "language": "python",
   "name": "python3"
  },
  "language_info": {
   "codemirror_mode": {
    "name": "ipython",
    "version": 3
   },
   "file_extension": ".py",
   "mimetype": "text/x-python",
   "name": "python",
   "nbconvert_exporter": "python",
   "pygments_lexer": "ipython3",
   "version": "3.11.12"
  }
 },
 "nbformat": 4,
 "nbformat_minor": 5
}
