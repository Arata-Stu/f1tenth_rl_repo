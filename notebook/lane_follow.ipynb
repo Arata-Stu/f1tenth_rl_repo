{
 "cells": [
  {
   "cell_type": "code",
   "execution_count": null,
   "id": "bfbcdc44",
   "metadata": {},
   "outputs": [],
   "source": [
    "import sys\n",
    "sys.path.append('../')"
   ]
  },
  {
   "cell_type": "code",
   "execution_count": null,
   "id": "650700b3",
   "metadata": {},
   "outputs": [],
   "source": [
    "from f1tenth_gym.f110_env import F110Env\n",
    "from src.envs.wrapper import F110Wrapper\n",
    "from f1tenth_gym.maps.map_manager import MapManager, MAP_DICT\n",
    "\n",
    "map_name = 'Austin'\n",
    "map_ext = '.png'\n",
    "speed = 8.0\n",
    "downsample = 1\n",
    "use_dynamic_speed = True\n",
    "a_lat_max = 3\n",
    "smooth_sigma = 2\n",
    "\n",
    "map_manager = MapManager(\n",
    "    map_name=map_name,\n",
    "    map_ext=map_ext,\n",
    "    speed=speed,\n",
    "    downsample=downsample,\n",
    "    use_dynamic_speed=use_dynamic_speed,\n",
    "    a_lat_max=a_lat_max,\n",
    "    smooth_sigma=smooth_sigma\n",
    ")\n",
    "\n",
    "vehicle_param = {\n",
    "    'mu': 1.0489,\n",
    "    'C_Sf': 4.718,\n",
    "    'C_Sr': 5.4562,\n",
    "    'lf': 0.15875,\n",
    "    'lr': 0.17145,\n",
    "    'h': 0.074,\n",
    "    'm': 3.74,\n",
    "    'I': 0.04712,\n",
    "    's_min': -0.4,\n",
    "    's_max': 0.4,\n",
    "    'sv_min': -3.2,\n",
    "    'sv_max': 3.2,\n",
    "    'v_switch': 7.319,\n",
    "    'a_max': 9.51,\n",
    "    'v_min': -5.0,\n",
    "    'v_max': 10.0,\n",
    "    'width': 0.31,\n",
    "    'length': 0.58\n",
    "}\n",
    "\n",
    "num_beams = 1080\n",
    "num_agents = 1\n",
    "## 公式のベース環境\n",
    "env = F110Env(map=map_manager.map_path, map_ext=map_ext, num_beams=num_beams, num_agents=num_agents, params=vehicle_param)\n",
    "## 自作のラッパー\n",
    "env = F110Wrapper(env, map_manager=map_manager)"
   ]
  },
  {
   "cell_type": "code",
   "execution_count": null,
   "id": "1d6e674b",
   "metadata": {},
   "outputs": [],
   "source": [
    "from src.utils.visualize import visualize_speed_map\n",
    "visualize_speed_map(map_manager=map_manager)"
   ]
  },
  {
   "cell_type": "code",
   "execution_count": null,
   "id": "540a82ce",
   "metadata": {},
   "outputs": [],
   "source": [
    "from src.planner.purePursuit import PurePursuitPlanner\n",
    "wheelbase = 0.33\n",
    "lookahead = 0.6\n",
    "gain = 0.2\n",
    "max_reacquire = 20.0\n",
    "\n",
    "planner = PurePursuitPlanner(\n",
    "    wheelbase=wheelbase,\n",
    "    map_manager=map_manager,\n",
    "    lookahead=lookahead,\n",
    "    gain=gain,\n",
    "    max_reacquire=max_reacquire\n",
    ")"
   ]
  },
  {
   "cell_type": "code",
   "execution_count": null,
   "id": "a8e321b0",
   "metadata": {},
   "outputs": [],
   "source": [
    "import numpy as np\n",
    "\n",
    "max_steps = 3000\n",
    "for i in range(len(MAP_DICT)):\n",
    "    map = MAP_DICT[i]\n",
    "    env.update_map(map_name=map, map_ext=map_ext)\n",
    "    obs, info = env.reset()\n",
    "    done = False\n",
    "\n",
    "    for step in range(max_steps):\n",
    "        actions = []\n",
    "        for agent_id in range(num_agents):\n",
    "            steer, speed = planner.plan(obs, id=agent_id)\n",
    "            action = [steer, speed]\n",
    "            actions.append(action)\n",
    "\n",
    "        next_obs, reward, terminated, truncated, info = env.step(np.array(actions))\n",
    "\n",
    "        env.render(mode='human')\n",
    "        \n",
    "        if terminated or truncated:\n",
    "            break\n",
    "\n",
    "        obs = next_obs\n",
    "\n"
   ]
  },
  {
   "cell_type": "code",
   "execution_count": null,
   "id": "952e0279",
   "metadata": {},
   "outputs": [],
   "source": []
  }
 ],
 "metadata": {
  "kernelspec": {
   "display_name": "env",
   "language": "python",
   "name": "python3"
  },
  "language_info": {
   "codemirror_mode": {
    "name": "ipython",
    "version": 3
   },
   "file_extension": ".py",
   "mimetype": "text/x-python",
   "name": "python",
   "nbconvert_exporter": "python",
   "pygments_lexer": "ipython3",
   "version": "3.11.12"
  }
 },
 "nbformat": 4,
 "nbformat_minor": 5
}
